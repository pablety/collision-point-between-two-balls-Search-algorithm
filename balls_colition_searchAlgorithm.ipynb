{
  "nbformat": 4,
  "nbformat_minor": 0,
  "metadata": {
    "colab": {
      "provenance": []
    },
    "kernelspec": {
      "name": "python3",
      "display_name": "Python 3"
    },
    "language_info": {
      "name": "python"
    }
  },
  "cells": [
    {
      "cell_type": "code",
      "source": [
        "# Read two lines: position, velocity and radius of each ball\n",
        "with open(\"input.txt\", \"r\") as file:\n",
        "    first_line = file.readline().strip()\n",
        "    second_line = file.readline().strip()\n",
        "\n",
        "    values1 = first_line.split(\" \")\n",
        "    values2 = second_line.split(\" \")\n",
        "\n",
        "    R1 = float(values1[0])\n",
        "    x1 = float(values1[1])\n",
        "    y1 = float(values1[2])\n",
        "    z1 = float(values1[3])\n",
        "    vx1 = float(values1[4])\n",
        "    vy1 = float(values1[5])\n",
        "    vz1 = float(values1[6])\n",
        "\n",
        "    R2 = float(values2[0])\n",
        "    x2 = float(values2[1])\n",
        "    y2 = float(values2[2])\n",
        "    z2 = float(values2[3])\n",
        "    vx2 = float(values2[4])\n",
        "    vy2 = float(values2[5])\n",
        "    vz2 = float(values2[6])"
      ],
      "metadata": {
        "id": "tsk-sSeAJErn"
      },
      "execution_count": 43,
      "outputs": []
    },
    {
      "cell_type": "code",
      "source": [
        "# Implementation of search algoritm\n",
        "# less than 0.5 seconds\n",
        "import time\n",
        "import numpy as np\n",
        "tiempo_inicial = time.time()\n",
        "\n",
        "tm = [0.0, 5000.0, 10000.0]\n",
        "\n",
        "def p(x ,vx, t):\n",
        "  xf   =  x + vx*t\n",
        "  return xf\n",
        "\n",
        "def dist(t):\n",
        "  d = ((p(x1,vx1,t)-p(x2,vx2,t))**2 + (p(y1,vy1,t)-p(y2,vy2,t))**2 + (p(z1,vz1,t)-p(z2,vz2,t))**2)**0.5\n",
        "  return d\n",
        "def normalizar_vector(vector):\n",
        "    magnitud = np.linalg.norm(vector)\n",
        "    if magnitud == 0:\n",
        "        return vector\n",
        "    vector_normalizado = vector / magnitud\n",
        "    return vector_normalizado\n",
        "\n",
        "bx = 0\n",
        "by = 0\n",
        "bz = 0\n",
        "\n",
        "dt = [0,0,0]\n",
        "\n",
        "\n",
        "while True:\n",
        "    # Realizar alguna operación dentro del bucle\n",
        "\n",
        "    dt[0] = dist(tm[0])\n",
        "    # dt[1] = dist(tm[1])\n",
        "    dt[2] = dist(tm[2])\n",
        "    if dt[0] > dt[2]:\n",
        "      tm[0] = tm[0]+ tm[2]/4\n",
        "\n",
        "    if dt[2] > dt[0]:\n",
        "      tm[2] = tm[2] - tm[2]/4\n",
        "\n",
        "    if dt[2] - dt[0] < 0.00001:\n",
        "      tm[1] = (tm[0] + tm[2])/2\n",
        "      t = tm[1]\n",
        "      vector = np.array([p(x2,vx2,t)-p(x1,vx1,t), p(y2,vy2,t)-p(y1,vy1,t), p(z2,vz2,t)-p(z1,vz1,t)])\n",
        "      vector_normalizado = normalizar_vector(vector)\n",
        "      bx = p(x1,vx1,t)+ vector_normalizado[0] * R1\n",
        "      by = p(y1,vy1,t)+ vector_normalizado[1] * R1\n",
        "      bz = p(z1,vz1,t)+ vector_normalizado[2] * R1\n",
        "      print(bx, \" \", by, \" \", bz)\n",
        "\n",
        "      if dt[2] - dt[0] < R1+R2:\n",
        "        file_name = \"output.txt\"\n",
        "        string =  str(round(bx, 5)) + \" \" + str(round(by, 5)) + \" \" + str(round(bz, 5))\n",
        "        with open(file_name, \"w\") as file:\n",
        "          file.write(\"YES\\n\")\n",
        "          file.write(string)\n",
        "      else:\n",
        "        file_name = \"output.txt\"\n",
        "        string = \"NO\"\n",
        "        with open(file_name, \"w\") as file:\n",
        "          line = f\"{string}\"\n",
        "          file.write(line)\n",
        "\n",
        "      break\n",
        "\n",
        "\n",
        "    tiempo_actual = time.time()\n",
        "    tiempo_transcurrido = tiempo_actual - tiempo_inicial\n",
        "\n",
        "    if tiempo_transcurrido > 0.5:\n",
        "      file_name = \"output.txt\"\n",
        "      string = \"NO\"\n",
        "      with open(file_name, \"w\") as file:\n",
        "        line = f\"{string}\"\n",
        "        file.write(line)\n",
        "      break"
      ],
      "metadata": {
        "colab": {
          "base_uri": "https://localhost:8080/"
        },
        "id": "YFMbV02pPADl",
        "outputId": "78563736-14aa-4e91-f742-4dc001968a16"
      },
      "execution_count": 84,
      "outputs": [
        {
          "output_type": "stream",
          "name": "stdout",
          "text": [
            "0.0   0.0   3.9449050797031218\n"
          ]
        }
      ]
    }
  ]
}